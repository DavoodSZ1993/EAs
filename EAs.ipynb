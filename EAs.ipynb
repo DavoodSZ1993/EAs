{
  "nbformat": 4,
  "nbformat_minor": 0,
  "metadata": {
    "colab": {
      "name": "EAs.ipynb",
      "provenance": [],
      "authorship_tag": "ABX9TyOs4/How/mplKgCqYPG2riU",
      "include_colab_link": true
    },
    "kernelspec": {
      "name": "python3",
      "display_name": "Python 3"
    },
    "language_info": {
      "name": "python"
    }
  },
  "cells": [
    {
      "cell_type": "markdown",
      "metadata": {
        "id": "view-in-github",
        "colab_type": "text"
      },
      "source": [
        "<a href=\"https://colab.research.google.com/github/DavoodSZ1993/EAs/blob/main/EAs.ipynb\" target=\"_parent\"><img src=\"https://colab.research.google.com/assets/colab-badge.svg\" alt=\"Open In Colab\"/></a>"
      ]
    },
    {
      "cell_type": "code",
      "execution_count": 1,
      "metadata": {
        "id": "UGvsKlUPZ7K9"
      },
      "outputs": [],
      "source": [
        "import numpy as np\n",
        "from abc import ABC, abstractmethod"
      ]
    },
    {
      "cell_type": "code",
      "source": [
        "# The Abstract Base Class\n",
        "\n",
        "class Individual(ABC):\n",
        "  def __init__(self, value=None, init_params = None):\n",
        "    if value is not None:\n",
        "      self.value = value\n",
        "    else:\n",
        "      self.value = self._random_init(init_params)\n",
        "\n",
        "  @abstractmethod\n",
        "  def pair(self, other, pair_params):\n",
        "    pass\n",
        "\n",
        "  @abstractmethod\n",
        "  def mutate(self, mutate_params):\n",
        "    pass\n",
        "\n",
        "  @abstractmethod\n",
        "  def _random_init(self, init_params):\n",
        "    pass"
      ],
      "metadata": {
        "id": "7j6F9NbZaojG"
      },
      "execution_count": 3,
      "outputs": []
    },
    {
      "cell_type": "code",
      "source": [
        "class Optimization(Individual):\n",
        "  def pair(self, other, pair_params):\n",
        "    return Optimization(pair_params['alpha'] * self.value + (1 - pair_params['alpha']) * other.value)\n",
        "\n",
        "  def mutate(self, mutate_params):\n",
        "    self.value += np.random.normal(0, mutate_params['rate'], mutate_params['dim'])\n",
        "    for i in range(len(self.value)):\n",
        "      if self.value[i] < mutate_params['lower_bound']:\n",
        "        self.value[i] = mutate_params['lower_bound']\n",
        "      elif self.value[i] > mutate_params['upper_bound']:\n",
        "        self.value[i] = mutate_params['upper_bound']\n",
        "\n",
        "  def _random_init(self, init_params):\n",
        "    return np.random.unifrom(init_params['lower_bound'], init_params['upper_bound'], init_params['dim'])\n",
        "    "
      ],
      "metadata": {
        "id": "rWtSbNx3cbJH"
      },
      "execution_count": 4,
      "outputs": []
    },
    {
      "cell_type": "code",
      "source": [
        "class Population:\n",
        "  def __init__(self, size, fitness, individual_class, init_params):\n",
        "    self.fitness = fitness\n",
        "    self.individuals = [individual_class(init_params=init_params) for _ in range(size)]\n",
        "    self.individuals.sort(key=lambda x: self.fitness(x))\n",
        "\n",
        "  def replace(self, new_individuals):\n",
        "    size = len(self.individuals)\n",
        "    self.individuals.extend(new_individuals)\n",
        "    self.individuals.sort(key=lambda x: self.fitness(x))\n",
        "    self.individuals = self.individuals[-size:]\n",
        "\n",
        "  def get_parents(self, n_offsprings):\n",
        "    mothers = self.individuals[-2 * n_offsprings::2]\n",
        "    fathers = self.individuals[-2 * n_offsprings + 1::2]\n",
        "    return mothers, fathers"
      ],
      "metadata": {
        "id": "kZi0hQuuezEF"
      },
      "execution_count": 7,
      "outputs": []
    },
    {
      "cell_type": "code",
      "source": [
        "class Evolution:\n",
        "  def __init__(self, pool_size, fitness, individual_class, n_offsprings, pair_params,\n",
        "               mutate_params, init_params):\n",
        "    self.pair_params = pair_params\n",
        "    self.mutate_params = mutate_params\n",
        "    self.pool = Population(pool_size, fitness, individual_class, init_params)\n",
        "    self.n_offsprings = n_offsprings\n",
        "\n",
        "  def step(self):\n",
        "    mothers, fathers = self.pool.get_parents(self.n_offsprings)\n",
        "    offsprings = []\n",
        "\n",
        "    for mother, father in zip(mothers, fathers):\n",
        "      offspring = mother.pair(father, self.pair_params)\n",
        "      offspring.mutate(self.mutate_params)\n",
        "      offsprings.append(offspring)\n",
        "\n",
        "    self.pool.replace(offsprings)\n"
      ],
      "metadata": {
        "id": "FdMAUEKVpt-q"
      },
      "execution_count": 8,
      "outputs": []
    }
  ]
}